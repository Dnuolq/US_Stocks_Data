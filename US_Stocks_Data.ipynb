{
 "cells": [
  {
   "cell_type": "code",
   "execution_count": 1,
   "id": "8a07e3db",
   "metadata": {},
   "outputs": [],
   "source": [
    "import requests\n",
    "from bs4 import BeautifulSoup\n",
    "import json"
   ]
  },
  {
   "cell_type": "code",
   "execution_count": 2,
   "id": "7ac2b524",
   "metadata": {},
   "outputs": [],
   "source": [
    "mystocks = ['TSLA','AMZN','AI','F'] #List of interest stocks\n",
    "stocksdata = []"
   ]
  },
  {
   "cell_type": "code",
   "execution_count": 3,
   "id": "fd8ff7b5",
   "metadata": {},
   "outputs": [],
   "source": [
    "#Function to scrap data \n",
    "def GetData(symbol):\n",
    "    headers = {'User-Agent': 'Mozilla/5.0 (Windows NT 10.0; Win64; x64) AppleWebKit/537.36 (KHTML, like Gecko) Chrome/109.0.0.0 Safari/537.36'}\n",
    "    url =f'https://finance.yahoo.com/quote/{symbol}' \n",
    "    r = requests.get(url, headers = headers)\n",
    "    soup = BeautifulSoup(r.text, 'html.parser')\n",
    "    table_1 = soup.find('table', { 'class' : 'W(100%)' }) #Select 1st table\n",
    "    table_2 = soup.find('table', { 'class' : 'W(100%) M(0) Bdcl(c)' }) #Select 2nd table\n",
    "    \n",
    "    stock = {\n",
    "    'Symbol': symbol,\n",
    "    'Price': soup.find('div',{'class':'D(ib) Mend(20px)'}).find_all('fin-streamer')[0].text,\n",
    "    'Change': soup.find('div',{'class':'D(ib) Mend(20px)'}).find_all('fin-streamer')[1].text,\n",
    "    'Percent': soup.find('div',{'class':'D(ib) Mend(20px)'}).find_all('fin-streamer')[2].text,\n",
    "      \n",
    "    'Previous Close': table_1.find_all('td', {'class':'Ta(end) Fw(600) Lh(14px)'})[0].text,\n",
    "    'Open': table_1.find_all('td', {'class':'Ta(end) Fw(600) Lh(14px)'})[1].text,\n",
    "    'Bid': table_1.find_all('td', {'class':'Ta(end) Fw(600) Lh(14px)'})[2].text,\n",
    "    'Ask': table_1.find_all('td', {'class':'Ta(end) Fw(600) Lh(14px)'})[3].text,\n",
    "    'Days Range': table_1.find_all('td', {'class':'Ta(end) Fw(600) Lh(14px)'})[4].text,\n",
    "    '52 Week Range': table_1.find_all('td', {'class':'Ta(end) Fw(600) Lh(14px)'})[5].text,\n",
    "    'Volume': table_1.find_all('td', {'class':'Ta(end) Fw(600) Lh(14px)'})[6].text,\n",
    "    'Avg. Volume': table_1.find_all('td', {'class':'Ta(end) Fw(600) Lh(14px)'})[7].text,\n",
    "        \n",
    "    'Market Cap': table_2.find_all('td', {'class':'Ta(end) Fw(600) Lh(14px)'})[0].text,\n",
    "    'Beta (5Y Monthly)': table_2.find_all('td', {'class':'Ta(end) Fw(600) Lh(14px)'})[1].text,\n",
    "    'PE Ratio (TTM)': table_2.find_all('td', {'class':'Ta(end) Fw(600) Lh(14px)'})[2].text,\n",
    "    'EPS (TTM)': table_2.find_all('td', {'class':'Ta(end) Fw(600) Lh(14px)'})[3].text,\n",
    "    'Earnings Date': table_2.find_all('td', {'class':'Ta(end) Fw(600) Lh(14px)'})[4].text,\n",
    "    'Forward Dividend & Yield': table_2.find_all('td', {'class':'Ta(end) Fw(600) Lh(14px)'})[5].text,\n",
    "    'Ex-Dividend Date': table_2.find_all('td', {'class':'Ta(end) Fw(600) Lh(14px)'})[6].text,\n",
    "    '1y Target Est': table_2.find_all('td', {'class':'Ta(end) Fw(600) Lh(14px)'})[7].text,\n",
    "    }\n",
    "    \n",
    "    return stock"
   ]
  },
  {
   "cell_type": "code",
   "execution_count": 4,
   "id": "c1d8c27f",
   "metadata": {},
   "outputs": [
    {
     "name": "stdout",
     "output_type": "stream",
     "text": [
      "Getting:  TSLA\n",
      "Getting:  AMZN\n",
      "Getting:  AI\n",
      "Getting:  F\n"
     ]
    }
   ],
   "source": [
    "for item in mystocks:\n",
    "    stocksdata.append(GetData(item))\n",
    "    print('Getting: ',item)"
   ]
  },
  {
   "cell_type": "code",
   "execution_count": 30,
   "id": "1a2b0857",
   "metadata": {},
   "outputs": [
    {
     "name": "stdout",
     "output_type": "stream",
     "text": [
      "[{'Symbol': 'TSLA', 'Price': '201.29', 'Change': '+4.48', 'Percent': '(+2.28%)', 'Previous Close': '196.81', 'Open': '196.10', 'Bid': '0.00 x 2200', 'Ask': '0.00 x 1400', 'Days Range': '194.31 - 202.99', '52 Week Range': '101.81 - 384.29', 'Volume': '178,512,610', 'Avg. Volume': '152,608,883', 'Market Cap': '636.902B', 'Beta (5Y Monthly)': '2.11', 'PE Ratio (TTM)': '55.00', 'EPS (TTM)': '3.66', 'Earnings Date': 'Apr 18, 2023 - Apr 24, 2023', 'Forward Dividend & Yield': 'N/A (N/A)', 'Ex-Dividend Date': 'N/A', '1y Target Est': '192.85'}, {'Symbol': 'AMZN', 'Price': '100.05', 'Change': '-2.06', 'Percent': '(-2.02%)', 'Previous Close': '102.11', 'Open': '102.04', 'Bid': '0.00 x 900', 'Ask': '0.00 x 1000', 'Days Range': '98.78 - 102.66', '52 Week Range': '81.43 - 170.83', 'Volume': '75,878,304', 'Avg. Volume': '81,239,762', 'Market Cap': '1.025T', 'Beta (5Y Monthly)': '1.22', 'PE Ratio (TTM)': '100.05', 'EPS (TTM)': '1.00', 'Earnings Date': 'Apr 26, 2023 - May 01, 2023', 'Forward Dividend & Yield': 'N/A (N/A)', 'Ex-Dividend Date': 'N/A', '1y Target Est': '137.73'}, {'Symbol': 'AI', 'Price': '26.19', 'Change': '+1.66', 'Percent': '(+6.77%)', 'Previous Close': '24.53', 'Open': '24.68', 'Bid': '0.00 x 1000', 'Ask': '27.07 x 3000', 'Days Range': '24.50 - 28.40', '52 Week Range': '10.16 - 30.92', 'Volume': '50,467,796', 'Avg. Volume': '8,374,520', 'Market Cap': '2.887B', 'Beta (5Y Monthly)': '1.50', 'PE Ratio (TTM)': 'N/A', 'EPS (TTM)': '-1.84', 'Earnings Date': 'Mar 02, 2023', 'Forward Dividend & Yield': 'N/A (N/A)', 'Ex-Dividend Date': 'N/A', '1y Target Est': '15.44'}, {'Symbol': 'F', 'Price': '13.42', 'Change': '-0.03', 'Percent': '(-0.22%)', 'Previous Close': '13.45', 'Open': '13.30', 'Bid': '13.43 x 27000', 'Ask': '13.63 x 28000', 'Days Range': '13.30 - 13.69', '52 Week Range': '10.61 - 18.63', 'Volume': '60,577,601', 'Avg. Volume': '55,535,618', 'Market Cap': '53.495B', 'Beta (5Y Monthly)': '1.52', 'PE Ratio (TTM)': '5.99', 'EPS (TTM)': '2.24', 'Earnings Date': 'Apr 25, 2023 - May 01, 2023', 'Forward Dividend & Yield': '0.60 (4.54%)', 'Ex-Dividend Date': 'Feb 10, 2023', '1y Target Est': '13.55'}]\n"
     ]
    }
   ],
   "source": [
    "print(stocksdata)"
   ]
  },
  {
   "cell_type": "code",
   "execution_count": 31,
   "id": "b1fd42c2",
   "metadata": {},
   "outputs": [
    {
     "name": "stdout",
     "output_type": "stream",
     "text": [
      "Successful\n"
     ]
    }
   ],
   "source": [
    "with open('US_stock_data.json', 'w+') as f: #Save data to JSON file\n",
    "    json.dump(stocksdata,f)\n",
    "print('Successful')"
   ]
  },
  {
   "cell_type": "code",
   "execution_count": 46,
   "id": "79e811c0",
   "metadata": {},
   "outputs": [],
   "source": [
    "import pandas as pd"
   ]
  },
  {
   "cell_type": "code",
   "execution_count": 47,
   "id": "d95e6d6b",
   "metadata": {},
   "outputs": [],
   "source": [
    "df = pd.read_json('US_stock_data.json', orient='records')"
   ]
  },
  {
   "cell_type": "code",
   "execution_count": 48,
   "id": "04c14dae",
   "metadata": {},
   "outputs": [
    {
     "data": {
      "text/html": [
       "<div>\n",
       "<style scoped>\n",
       "    .dataframe tbody tr th:only-of-type {\n",
       "        vertical-align: middle;\n",
       "    }\n",
       "\n",
       "    .dataframe tbody tr th {\n",
       "        vertical-align: top;\n",
       "    }\n",
       "\n",
       "    .dataframe thead th {\n",
       "        text-align: right;\n",
       "    }\n",
       "</style>\n",
       "<table border=\"1\" class=\"dataframe\">\n",
       "  <thead>\n",
       "    <tr style=\"text-align: right;\">\n",
       "      <th></th>\n",
       "      <th>Symbol</th>\n",
       "      <th>Price</th>\n",
       "      <th>Change</th>\n",
       "      <th>Percent</th>\n",
       "      <th>Previous Close</th>\n",
       "      <th>Open</th>\n",
       "      <th>Bid</th>\n",
       "      <th>Ask</th>\n",
       "      <th>Days Range</th>\n",
       "      <th>52 Week Range</th>\n",
       "      <th>Volume</th>\n",
       "      <th>Avg. Volume</th>\n",
       "      <th>Market Cap</th>\n",
       "      <th>Beta (5Y Monthly)</th>\n",
       "      <th>PE Ratio (TTM)</th>\n",
       "      <th>EPS (TTM)</th>\n",
       "      <th>Earnings Date</th>\n",
       "      <th>Forward Dividend &amp; Yield</th>\n",
       "      <th>Ex-Dividend Date</th>\n",
       "      <th>1y Target Est</th>\n",
       "    </tr>\n",
       "  </thead>\n",
       "  <tbody>\n",
       "    <tr>\n",
       "      <th>0</th>\n",
       "      <td>TSLA</td>\n",
       "      <td>201.29</td>\n",
       "      <td>4.48</td>\n",
       "      <td>(+2.28%)</td>\n",
       "      <td>196.81</td>\n",
       "      <td>196.10</td>\n",
       "      <td>0.00 x 2200</td>\n",
       "      <td>0.00 x 1400</td>\n",
       "      <td>194.31 - 202.99</td>\n",
       "      <td>101.81 - 384.29</td>\n",
       "      <td>178,512,610</td>\n",
       "      <td>152,608,883</td>\n",
       "      <td>636.902B</td>\n",
       "      <td>2.11</td>\n",
       "      <td>55.00</td>\n",
       "      <td>3.66</td>\n",
       "      <td>Apr 18, 2023 - Apr 24, 2023</td>\n",
       "      <td>N/A (N/A)</td>\n",
       "      <td>N/A</td>\n",
       "      <td>192.85</td>\n",
       "    </tr>\n",
       "    <tr>\n",
       "      <th>1</th>\n",
       "      <td>AMZN</td>\n",
       "      <td>100.05</td>\n",
       "      <td>-2.06</td>\n",
       "      <td>(-2.02%)</td>\n",
       "      <td>102.11</td>\n",
       "      <td>102.04</td>\n",
       "      <td>0.00 x 900</td>\n",
       "      <td>0.00 x 1000</td>\n",
       "      <td>98.78 - 102.66</td>\n",
       "      <td>81.43 - 170.83</td>\n",
       "      <td>75,878,304</td>\n",
       "      <td>81,239,762</td>\n",
       "      <td>1.025T</td>\n",
       "      <td>1.22</td>\n",
       "      <td>100.05</td>\n",
       "      <td>1.00</td>\n",
       "      <td>Apr 26, 2023 - May 01, 2023</td>\n",
       "      <td>N/A (N/A)</td>\n",
       "      <td>N/A</td>\n",
       "      <td>137.73</td>\n",
       "    </tr>\n",
       "    <tr>\n",
       "      <th>2</th>\n",
       "      <td>AI</td>\n",
       "      <td>26.19</td>\n",
       "      <td>1.66</td>\n",
       "      <td>(+6.77%)</td>\n",
       "      <td>24.53</td>\n",
       "      <td>24.68</td>\n",
       "      <td>0.00 x 1000</td>\n",
       "      <td>27.07 x 3000</td>\n",
       "      <td>24.50 - 28.40</td>\n",
       "      <td>10.16 - 30.92</td>\n",
       "      <td>50,467,796</td>\n",
       "      <td>8,374,520</td>\n",
       "      <td>2.887B</td>\n",
       "      <td>1.50</td>\n",
       "      <td>N/A</td>\n",
       "      <td>-1.84</td>\n",
       "      <td>Mar 02, 2023</td>\n",
       "      <td>N/A (N/A)</td>\n",
       "      <td>N/A</td>\n",
       "      <td>15.44</td>\n",
       "    </tr>\n",
       "    <tr>\n",
       "      <th>3</th>\n",
       "      <td>F</td>\n",
       "      <td>13.42</td>\n",
       "      <td>-0.03</td>\n",
       "      <td>(-0.22%)</td>\n",
       "      <td>13.45</td>\n",
       "      <td>13.30</td>\n",
       "      <td>13.43 x 27000</td>\n",
       "      <td>13.63 x 28000</td>\n",
       "      <td>13.30 - 13.69</td>\n",
       "      <td>10.61 - 18.63</td>\n",
       "      <td>60,577,601</td>\n",
       "      <td>55,535,618</td>\n",
       "      <td>53.495B</td>\n",
       "      <td>1.52</td>\n",
       "      <td>5.99</td>\n",
       "      <td>2.24</td>\n",
       "      <td>Apr 25, 2023 - May 01, 2023</td>\n",
       "      <td>0.60 (4.54%)</td>\n",
       "      <td>Feb 10, 2023</td>\n",
       "      <td>13.55</td>\n",
       "    </tr>\n",
       "  </tbody>\n",
       "</table>\n",
       "</div>"
      ],
      "text/plain": [
       "  Symbol   Price  Change   Percent  Previous Close    Open            Bid  \\\n",
       "0   TSLA  201.29    4.48  (+2.28%)          196.81  196.10    0.00 x 2200   \n",
       "1   AMZN  100.05   -2.06  (-2.02%)          102.11  102.04     0.00 x 900   \n",
       "2     AI   26.19    1.66  (+6.77%)           24.53   24.68    0.00 x 1000   \n",
       "3      F   13.42   -0.03  (-0.22%)           13.45   13.30  13.43 x 27000   \n",
       "\n",
       "             Ask       Days Range    52 Week Range       Volume  Avg. Volume  \\\n",
       "0    0.00 x 1400  194.31 - 202.99  101.81 - 384.29  178,512,610  152,608,883   \n",
       "1    0.00 x 1000   98.78 - 102.66   81.43 - 170.83   75,878,304   81,239,762   \n",
       "2   27.07 x 3000    24.50 - 28.40    10.16 - 30.92   50,467,796    8,374,520   \n",
       "3  13.63 x 28000    13.30 - 13.69    10.61 - 18.63   60,577,601   55,535,618   \n",
       "\n",
       "  Market Cap  Beta (5Y Monthly) PE Ratio (TTM)  EPS (TTM)  \\\n",
       "0   636.902B               2.11          55.00       3.66   \n",
       "1     1.025T               1.22         100.05       1.00   \n",
       "2     2.887B               1.50            N/A      -1.84   \n",
       "3    53.495B               1.52           5.99       2.24   \n",
       "\n",
       "                 Earnings Date Forward Dividend & Yield Ex-Dividend Date  \\\n",
       "0  Apr 18, 2023 - Apr 24, 2023                N/A (N/A)              N/A   \n",
       "1  Apr 26, 2023 - May 01, 2023                N/A (N/A)              N/A   \n",
       "2                 Mar 02, 2023                N/A (N/A)              N/A   \n",
       "3  Apr 25, 2023 - May 01, 2023             0.60 (4.54%)     Feb 10, 2023   \n",
       "\n",
       "   1y Target Est  \n",
       "0         192.85  \n",
       "1         137.73  \n",
       "2          15.44  \n",
       "3          13.55  "
      ]
     },
     "execution_count": 48,
     "metadata": {},
     "output_type": "execute_result"
    }
   ],
   "source": [
    "df"
   ]
  },
  {
   "cell_type": "code",
   "execution_count": null,
   "id": "9a1855d8",
   "metadata": {},
   "outputs": [],
   "source": []
  }
 ],
 "metadata": {
  "kernelspec": {
   "display_name": "Python 3 (ipykernel)",
   "language": "python",
   "name": "python3"
  },
  "language_info": {
   "codemirror_mode": {
    "name": "ipython",
    "version": 3
   },
   "file_extension": ".py",
   "mimetype": "text/x-python",
   "name": "python",
   "nbconvert_exporter": "python",
   "pygments_lexer": "ipython3",
   "version": "3.9.7"
  }
 },
 "nbformat": 4,
 "nbformat_minor": 5
}
